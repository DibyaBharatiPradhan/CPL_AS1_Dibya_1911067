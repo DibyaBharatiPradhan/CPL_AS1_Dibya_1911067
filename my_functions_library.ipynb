{
 "cells": [
  {
   "cell_type": "code",
   "execution_count": 1,
   "id": "11ee5dcf",
   "metadata": {},
   "outputs": [],
   "source": [
    "import math\n",
    "    \n",
    "def is_natural(n):                      #checks if n is natural                            \n",
    "        try:                            \n",
    "            int(n)\n",
    "            a=True\n",
    "        except ValueError:\n",
    "            a=False\n",
    "            \n",
    "        if a==True and int(n)>0:\n",
    "            return (int(n))\n",
    "        else:\n",
    "            print(\"Input is not a Natural number.\")\n",
    "            return (1)"
   ]
  },
  {
   "cell_type": "code",
   "execution_count": 2,
   "id": "dd745cc6",
   "metadata": {},
   "outputs": [],
   "source": [
    "def is_float(n):                       #function to return n as float\n",
    "    try: \n",
    "        float(n)\n",
    "        a = True\n",
    "    except:\n",
    "        a = False\n",
    "\n",
    "    if a==True:\n",
    "        return(float(n))\n",
    "    else:\n",
    "        print(\"The input is not as desired.\")\n",
    "        return (1)\n",
    "\n",
    "        "
   ]
  },
  {
   "cell_type": "code",
   "execution_count": 3,
   "id": "e1905bb4",
   "metadata": {},
   "outputs": [],
   "source": [
    "def sum_natural_numbers(n):                         # finds sum of n natural numbers using recursion\n",
    "    if n <= 1: \n",
    "        return n \n",
    "    return n +  sum_natural_numbers(n - 1) \n",
    "\n",
    "\n",
    "    print(\"The sum of first \"+ str(n) + \" natural numbers is \" + str(sum_natural_numbers(n)))\n",
    "\n",
    "\n",
    "def sum_odd_numbers(n):                            # function for sum of first n odd numbers                        \n",
    "      \n",
    "    sum=0\n",
    "    i=1\n",
    "    j=1\n",
    "    while i<=n:\n",
    "        if j%2!=0:\n",
    "            sum=sum+j\n",
    "            i+=1\n",
    "            j+=1\n",
    "        else:\n",
    "            j+=1\n",
    "    print(\"The sum of first \" + str(n) + \" odd numbers is \" + str(sum))\n"
   ]
  },
  {
   "cell_type": "code",
   "execution_count": 4,
   "id": "e38f0862",
   "metadata": {},
   "outputs": [],
   "source": [
    "def sum_numbers_AP(a,n):                          # function for sum of n terms of an AP\n",
    "    d=1.5                                          # with first term and number of terms taken as input\n",
    "    sum=0\n",
    "    for i in range(n):\n",
    "        sum=sum+a\n",
    "        a=a+d\n",
    "    print(\"\\nThe sum of first \" + str(n) + \" terms of an AP is \" + str(sum))\n",
    "\n",
    "\n",
    "\n",
    "\n",
    "def sum_numbers_GP(a,n):                               # function for sum of n terms of a GP\n",
    "    r=0.5                                              # with first term and number of terms taken as input\n",
    "    sum=0\n",
    "    for i in range(n):\n",
    "        sum=sum+a\n",
    "        a=a*r\n",
    "    print(\"\\nThe sum of first \" + str(n) + \" terms of an GP is \" + str(sum))\n",
    "\n",
    "\n",
    "\n",
    "\n",
    "def sum_numbers_HP(a,n):                              # function for sum of n terms of a HP\n",
    "    r=1.5                                             # with first term and number of terms taken as input\n",
    "    sum=0\n",
    "    for i in range(n):\n",
    "        sum=sum+1/a\n",
    "        a=a+r\n",
    "    print(\"\\nThe sum of first \" + str(n) + \" terms of an HP is \" + str(sum))"
   ]
  },
  {
   "cell_type": "code",
   "execution_count": 5,
   "id": "c7e61095",
   "metadata": {},
   "outputs": [],
   "source": [
    "def factorial(n):                                   # function for finding factorial of a number\n",
    "    f=1\n",
    "    while n>0:\n",
    "        f=f*n\n",
    "        n-=1\n",
    "    return f"
   ]
  },
  {
   "cell_type": "code",
   "execution_count": 6,
   "id": "f488412c",
   "metadata": {},
   "outputs": [],
   "source": [
    "# sine function\n",
    "\n",
    "def sin_func(x,n):                          # with argument of sine and number of terms in its taylor expansion taken as input\n",
    "    sum=0\n",
    "    for i in range(1,n+1):                              # starting the index with i=1 because factorial of -1 is not defined\n",
    "        t=(-1)**(i-1) * (x**(2*i-1)/factorial(2*i-1))  # taylor series terms\n",
    "        sum=sum+t\n",
    "    return sum\n",
    "\n",
    "\n",
    "# exponential function\n",
    "\n",
    "def exp_func(x,n):                          # with argument of sine and number of terms in its taylor expansion taken as input\n",
    "    sum=0\n",
    "    for i in range(0,n):\n",
    "        t=(-1)**i * x**i/factorial(i)        # taylor series terms\n",
    "        sum=sum+t\n",
    "    return sum"
   ]
  },
  {
   "cell_type": "code",
   "execution_count": null,
   "id": "dd599e4b",
   "metadata": {},
   "outputs": [],
   "source": []
  },
  {
   "cell_type": "code",
   "execution_count": null,
   "id": "54d344eb",
   "metadata": {},
   "outputs": [],
   "source": []
  }
 ],
 "metadata": {
  "kernelspec": {
   "display_name": "Python 3",
   "language": "python",
   "name": "python3"
  },
  "language_info": {
   "codemirror_mode": {
    "name": "ipython",
    "version": 3
   },
   "file_extension": ".py",
   "mimetype": "text/x-python",
   "name": "python",
   "nbconvert_exporter": "python",
   "pygments_lexer": "ipython3",
   "version": "3.8.10"
  }
 },
 "nbformat": 4,
 "nbformat_minor": 5
}
