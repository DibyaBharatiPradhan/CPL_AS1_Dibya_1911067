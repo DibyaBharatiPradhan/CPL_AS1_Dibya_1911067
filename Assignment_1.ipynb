{
 "cells": [
  {
   "cell_type": "markdown",
   "id": "2cc9e943",
   "metadata": {},
   "source": [
    "## Importing my library notebook "
   ]
  },
  {
   "cell_type": "code",
   "execution_count": 15,
   "id": "04117046",
   "metadata": {},
   "outputs": [
    {
     "data": {
      "text/plain": [
       "<Figure size 648x432 with 0 Axes>"
      ]
     },
     "execution_count": 15,
     "metadata": {},
     "output_type": "execute_result"
    },
    {
     "data": {
      "text/plain": [
       "<Figure size 648x432 with 0 Axes>"
      ]
     },
     "metadata": {},
     "output_type": "display_data"
    }
   ],
   "source": [
    "%run my_functions_library.ipynb\n",
    "\n",
    "import math\n",
    "import matplotlib.pyplot as plt       #to be used for plotting\n",
    "plt.figure(figsize=(9,6))"
   ]
  },
  {
   "cell_type": "markdown",
   "id": "032ff8e7",
   "metadata": {},
   "source": [
    "# Question 1 "
   ]
  },
  {
   "cell_type": "markdown",
   "id": "e090da09",
   "metadata": {},
   "source": [
    "## Sum of natural no.s"
   ]
  },
  {
   "cell_type": "code",
   "execution_count": 16,
   "id": "f7c38969",
   "metadata": {},
   "outputs": [
    {
     "name": "stdout",
     "output_type": "stream",
     "text": [
      "Enter a natural number: 5\n",
      "The sum of first 5 natural numbers is 15\n"
     ]
    }
   ],
   "source": [
    "# Sum of first N natural numbers\n",
    "\n",
    "\n",
    "n=input(\"Enter a natural number: \")                                        # taking input from the user\n",
    "a=is_natural(n)\n",
    "if a != 1:\n",
    "    print(\"The sum of first \"+ str(n) + \" natural numbers is \" + str(sum_natural_numbers(a)))"
   ]
  },
  {
   "cell_type": "code",
   "execution_count": 17,
   "id": "b215aeea",
   "metadata": {},
   "outputs": [
    {
     "name": "stdout",
     "output_type": "stream",
     "text": [
      "\n",
      "The input number is 5\n",
      "The sum of first 5 natural numbers is 15\n",
      "\n",
      "The input number is 7.2\n",
      "Input is not a Natural number.\n",
      "\n",
      "The input number is dibya\n",
      "Input is not a Natural number.\n",
      "\n",
      "The input number is 45\n",
      "The sum of first 45 natural numbers is 1035\n",
      "\n",
      "The input number is -32\n",
      "Input is not a Natural number.\n"
     ]
    }
   ],
   "source": [
    "n=['5','7.2','dibya','45','-32']\n",
    "\n",
    "for i in range(len(n)):\n",
    "    print(\"\\nThe input number is \" + n[i])\n",
    "    a = is_natural(n[i])\n",
    "    if a!=1:\n",
    "        print(\"The sum of first \"+ str(n[i]) + \" natural numbers is \" + str(sum_natural_numbers(a)))"
   ]
  },
  {
   "cell_type": "markdown",
   "id": "c4bd000e",
   "metadata": {},
   "source": [
    "## Sum of odd no.s"
   ]
  },
  {
   "cell_type": "code",
   "execution_count": 18,
   "id": "3febcc82",
   "metadata": {},
   "outputs": [
    {
     "name": "stdout",
     "output_type": "stream",
     "text": [
      "Enter a natural number: 7\n",
      "The sum of first 7 odd numbers is 49\n"
     ]
    }
   ],
   "source": [
    "# Sum of first N odd natural numbers\n",
    "\n",
    "\n",
    "n=input(\"Enter a natural number: \")                                         # taking input from the user\n",
    "a=is_natural(n)\n",
    "if a != 1:\n",
    "    sum_odd_numbers(a)\n",
    "\n",
    "    "
   ]
  },
  {
   "cell_type": "code",
   "execution_count": 19,
   "id": "602c2af2",
   "metadata": {},
   "outputs": [
    {
     "name": "stdout",
     "output_type": "stream",
     "text": [
      "\n",
      "The input number is 5\n",
      "The sum of first 5 odd numbers is 25\n",
      "\n",
      "The input number is 7.2\n",
      "Input is not a Natural number.\n",
      "\n",
      "The input number is dibya\n",
      "Input is not a Natural number.\n",
      "\n",
      "The input number is 45\n",
      "The sum of first 45 odd numbers is 2025\n",
      "\n",
      "The input number is -32\n",
      "Input is not a Natural number.\n"
     ]
    }
   ],
   "source": [
    "n=['5','7.2','dibya','45','-32']\n",
    "\n",
    "for i in range(len(n)):\n",
    "    print(\"\\nThe input number is \" + n[i])\n",
    "    a = is_natural(n[i])\n",
    "    if a!=1:\n",
    "        sum_odd_numbers(a)"
   ]
  },
  {
   "cell_type": "markdown",
   "id": "a9400f91",
   "metadata": {},
   "source": [
    "# Question 2 "
   ]
  },
  {
   "cell_type": "markdown",
   "id": "300834ba",
   "metadata": {},
   "source": [
    "## AP "
   ]
  },
  {
   "cell_type": "code",
   "execution_count": 20,
   "id": "828a1328",
   "metadata": {},
   "outputs": [
    {
     "name": "stdout",
     "output_type": "stream",
     "text": [
      "common difference of the AP is 1.5\n",
      "Enter first term of AP: 3\n",
      "Enter the number of terms: 4\n",
      "\n",
      "The sum of first 4 terms of an AP is 21.0\n"
     ]
    }
   ],
   "source": [
    "    \n",
    "# Sum of first N entries of an AP\n",
    "\n",
    "\n",
    "print(\"common difference of the AP is 1.5\")\n",
    "a=input(\"Enter first term of AP: \")\n",
    "n=input(\"Enter the number of terms: \")                                     # taking input from the user\n",
    "p=is_float(a)\n",
    "q=is_natural(n)\n",
    "if (p!=1 and q!=1):\n",
    "    sum_numbers_AP(p,q)\n",
    "    "
   ]
  },
  {
   "cell_type": "code",
   "execution_count": 22,
   "id": "6d3509b6",
   "metadata": {},
   "outputs": [
    {
     "name": "stdout",
     "output_type": "stream",
     "text": [
      "\n",
      "The input number is 5\n",
      "The first term of AP is 8\n",
      "common difference of the AP is 1.5\n",
      "\n",
      "The sum of first 5 terms of an AP is 55.0\n",
      "\n",
      "The input number is 7.2\n",
      "The first term of AP is 7.9\n",
      "common difference of the AP is 1.5\n",
      "Input is not a Natural number.\n",
      "\n",
      "The input number is dibya\n",
      "The first term of AP is 5\n",
      "common difference of the AP is 1.5\n",
      "Input is not a Natural number.\n",
      "\n",
      "The input number is 45\n",
      "The first term of AP is 3.0\n",
      "common difference of the AP is 1.5\n",
      "\n",
      "The sum of first 45 terms of an AP is 1620.0\n",
      "\n",
      "The input number is -32\n",
      "The first term of AP is dib\n",
      "common difference of the AP is 1.5\n",
      "The input is not as desired.\n",
      "Input is not a Natural number.\n"
     ]
    }
   ],
   "source": [
    "a=['8','7.9','5','3.0','dib']                               #array of first term of AP\n",
    "n=['5','7.2','dibya','45','-32']                            #array of no. of terms for AP\n",
    "\n",
    "for i in range(len(n)):\n",
    "    print(\"\\nThe input number is \" + n[i])\n",
    "    print(\"The first term of AP is \"+ a[i])\n",
    "    print(\"common difference of the AP is 1.5\")\n",
    "    p=is_float(a[i])\n",
    "    q=is_natural(n[i])\n",
    "    if (p!=1 and q!=1):\n",
    "        sum_numbers_AP(p,q)"
   ]
  },
  {
   "cell_type": "markdown",
   "id": "ad7bac4d",
   "metadata": {},
   "source": [
    "## GP"
   ]
  },
  {
   "cell_type": "code",
   "execution_count": 23,
   "id": "77d749ee",
   "metadata": {},
   "outputs": [
    {
     "name": "stdout",
     "output_type": "stream",
     "text": [
      "common ratio of the GP is 0.5\n",
      "Enter first term of GP: 6\n",
      "Enter number of terms: 6\n",
      "\n",
      "The sum of first 6 terms of an GP is 11.8125\n"
     ]
    }
   ],
   "source": [
    "#  Sum of first N terms of a GP\n",
    "\n",
    "\n",
    "print(\"common ratio of the GP is 0.5\")                                   # taking input from the user\n",
    "a=input(\"Enter first term of GP: \")\n",
    "n=input(\"Enter number of terms: \")\n",
    "p=is_float(a)\n",
    "q=is_natural(n)\n",
    "if (p!=1 and q!=1):\n",
    "    sum_numbers_GP(p,q)\n",
    "    "
   ]
  },
  {
   "cell_type": "code",
   "execution_count": 26,
   "id": "eb448990",
   "metadata": {},
   "outputs": [
    {
     "name": "stdout",
     "output_type": "stream",
     "text": [
      "\n",
      "The input number is 5\n",
      "The first term of GP is 8\n",
      "common ratio of the GP is 1.5\n",
      "\n",
      "The sum of first 5 terms of an GP is 15.5\n",
      "\n",
      "The input number is 7.2\n",
      "The first term of GP is 7.9\n",
      "common ratio of the GP is 1.5\n",
      "Input is not a Natural number.\n",
      "\n",
      "The input number is dibya\n",
      "The first term of GP is 5\n",
      "common ratio of the GP is 1.5\n",
      "Input is not a Natural number.\n",
      "\n",
      "The input number is 45\n",
      "The first term of GP is 3.0\n",
      "common ratio of the GP is 1.5\n",
      "\n",
      "The sum of first 45 terms of an GP is 5.9999999999998295\n",
      "\n",
      "The input number is -32\n",
      "The first term of GP is dib\n",
      "common ratio of the GP is 1.5\n",
      "The input is not as desired.\n",
      "Input is not a Natural number.\n"
     ]
    }
   ],
   "source": [
    "a=['8','7.9','5','3.0','dib']                                   #array of first term of GP\n",
    "n=['5','7.2','dibya','45','-32']                                #array of no. of term of GP\n",
    "\n",
    "for i in range(len(n)):\n",
    "    print(\"\\nThe input number is \" + n[i])\n",
    "    print(\"The first term of GP is \"+ a[i])\n",
    "    print(\"common ratio of the GP is 1.5\")\n",
    "    p=is_float(a[i])\n",
    "    q=is_natural(n[i])\n",
    "    if (p!=1 and q!=1):\n",
    "        sum_numbers_GP(p,q)"
   ]
  },
  {
   "cell_type": "markdown",
   "id": "9036ae9c",
   "metadata": {},
   "source": [
    "# HP"
   ]
  },
  {
   "cell_type": "code",
   "execution_count": 27,
   "id": "6df264db",
   "metadata": {},
   "outputs": [
    {
     "name": "stdout",
     "output_type": "stream",
     "text": [
      "common difference of the HP is 1.5\n",
      "Enter first term of HP: 5.6\n",
      "Enter number of terms: 7\n",
      "\n",
      "The sum of first 7 terms of an HP is 0.7657413948507557\n"
     ]
    }
   ],
   "source": [
    "#  Sum of first N terms of a HP\n",
    "\n",
    "\n",
    "print(\"common difference of the HP is 1.5\")                               # taking input from the user\n",
    "a=input(\"Enter first term of HP: \")                                       \n",
    "n=input(\"Enter number of terms: \")                                        \n",
    "p=is_float(a)\n",
    "q=is_natural(n)\n",
    "if (p!=1 and q!=1):\n",
    "    sum_numbers_HP(p,q)"
   ]
  },
  {
   "cell_type": "code",
   "execution_count": 28,
   "id": "fb9c5e87",
   "metadata": {},
   "outputs": [
    {
     "name": "stdout",
     "output_type": "stream",
     "text": [
      "\n",
      "The input number is 5\n",
      "The first term of HP is 8\n",
      "common difference of the HP is 1.5\n",
      "\n",
      "The sum of first 5 terms of an HP is 0.47260082023239924\n",
      "\n",
      "The input number is 7.2\n",
      "The first term of HP is 7.9\n",
      "common difference of the HP is 1.5\n",
      "Input is not a Natural number.\n",
      "\n",
      "The input number is dibya\n",
      "The first term of HP is 5\n",
      "common difference of the HP is 1.5\n",
      "Input is not a Natural number.\n",
      "\n",
      "The input number is 45\n",
      "The first term of HP is 3.0\n",
      "common difference of the HP is 1.5\n",
      "\n",
      "The sum of first 45 terms of an HP is 2.2777914973240696\n",
      "\n",
      "The input number is -32\n",
      "The first term of HP is dib\n",
      "common difference of the HP is 1.5\n",
      "The input is not as desired.\n",
      "Input is not a Natural number.\n"
     ]
    }
   ],
   "source": [
    "a=['8','7.9','5','3.0','dib']                                      #array first term of HP\n",
    "n=['5','7.2','dibya','45','-32']                                   #array of no. of terms of HP\n",
    "\n",
    "for i in range(len(n)):\n",
    "    print(\"\\nThe input number is \" + n[i])\n",
    "    print(\"The first term of HP is \"+ a[i])\n",
    "    print(\"common difference of the HP is 1.5\")\n",
    "    p=is_float(a[i])\n",
    "    q=is_natural(n[i])\n",
    "    if (p!=1 and q!=1):\n",
    "        sum_numbers_HP(p,q)"
   ]
  },
  {
   "cell_type": "markdown",
   "id": "0d9fa7a3",
   "metadata": {},
   "source": [
    "# Question 3 (Factorial)"
   ]
  },
  {
   "cell_type": "code",
   "execution_count": 29,
   "id": "f3fee30c",
   "metadata": {},
   "outputs": [
    {
     "name": "stdout",
     "output_type": "stream",
     "text": [
      "Enter a natural number8\n",
      "Factorial of 8 is : 40320\n"
     ]
    }
   ],
   "source": [
    "\n",
    "# Factorial of a number\n",
    "\n",
    "\n",
    "n=input(\"Enter a natural number\")                                        # taking input from the user\n",
    "\n",
    "if int(n)==0:                                       # finding factorial of 0 separately and other natural numbers separately\n",
    "    factorial(0)\n",
    "else:\n",
    "    n=is_natural(n)                       # n has datatype integer now\n",
    "    if n!=1:\n",
    "        print(\"Factorial of \" + str(n) + \" is : \" + str(factorial(n)))\n",
    "        "
   ]
  },
  {
   "cell_type": "code",
   "execution_count": 30,
   "id": "da0f37bb",
   "metadata": {},
   "outputs": [
    {
     "name": "stdout",
     "output_type": "stream",
     "text": [
      "\n",
      "The input number is 5\n",
      "Factorial of 5 is : 120\n",
      "\n",
      "The input number is 7.2\n",
      "Input is not a Natural number.\n",
      "\n",
      "The input number is dibya\n",
      "Input is not a Natural number.\n",
      "\n",
      "The input number is 45\n",
      "Factorial of 45 is : 119622220865480194561963161495657715064383733760000000000\n",
      "\n",
      "The input number is -32\n",
      "Input is not a Natural number.\n"
     ]
    }
   ],
   "source": [
    "n=['5','7.2','dibya','45','-32']\n",
    "\n",
    "for i in range(len(n)):\n",
    "    print(\"\\nThe input number is \" + n[i])\n",
    "    a = is_natural(n[i])\n",
    "    if a!=1:\n",
    "        print(\"Factorial of \" + str(a) + \" is : \" + str(factorial(a)))"
   ]
  },
  {
   "cell_type": "markdown",
   "id": "baab156f",
   "metadata": {},
   "source": [
    "# Question 4"
   ]
  },
  {
   "cell_type": "markdown",
   "id": "ba78b5e7",
   "metadata": {},
   "source": [
    "## Sine Func."
   ]
  },
  {
   "cell_type": "code",
   "execution_count": 31,
   "id": "fa649b62",
   "metadata": {},
   "outputs": [
    {
     "name": "stdout",
     "output_type": "stream",
     "text": [
      "Enter the argument for sin function3.1417\n",
      "\n",
      "Sin( 3.1417 ) = -0.00010811964341245458\n",
      "It is accurate atleast upto 4 decimal places.\n"
     ]
    }
   ],
   "source": [
    "\n",
    "# Question 4(a): Sine function\n",
    "\n",
    "n=input(\"Enter the argument for sin function\")\n",
    "n=is_float(n)\n",
    "if int(n)!=1:\n",
    "    exp=10**-6\n",
    "    i=1                                               # The loop runs till the value matches with the actual valueof sin(x)\n",
    "    while abs(sin_func(n,i)-math.sin(n))>exp:\n",
    "        i+=1\n",
    "    print(\"\\nSin( \" +str(n)+ \" ) = \"+ str(sin_func(n,i)))  \n",
    "    print(\"It is accurate atleast upto 4 decimal places.\")"
   ]
  },
  {
   "cell_type": "markdown",
   "id": "8729ec4e",
   "metadata": {},
   "source": [
    "### Errors and Plots (sin_func) "
   ]
  },
  {
   "cell_type": "code",
   "execution_count": 33,
   "id": "306d63c8",
   "metadata": {},
   "outputs": [
    {
     "data": {
      "image/png": "[encoded data removed]",
      "text/plain": [
       "<Figure size 648x432 with 1 Axes>"
      ]
     },
     "metadata": {
      "needs_background": "light"
     },
     "output_type": "display_data"
    }
   ],
   "source": [
    "%run my_functions_library.ipynb\n",
    "\n",
    "import math\n",
    "import matplotlib.pyplot as plt       #to be used for plotting\n",
    "plt.figure(figsize=(9,6))\n",
    "\n",
    "eps=10**-6 # value of epsilon - decimal places upto which accuracy is desired\n",
    "\n",
    "argument=[1, 1.4, 2.3, 3.1416, 4.0] # array of arguments given for comparison\n",
    "color=['r-o', 'k-o', 'y-o','b-o','g-o'] # array of colors for plotting\n",
    "\n",
    "for j in range(len(argument)):\n",
    "    # initializing two arrays to store indices and errors\n",
    "    index=[] \n",
    "    error=[]\n",
    "    \n",
    "    x=argument[j] # argument if sine function\n",
    "    i=1\n",
    "    \n",
    "    # the loop runs till the value doesn't match with\n",
    "    # the actual value of sine and terminates as it matches\n",
    "    # upto desired decimal places\n",
    "    while abs(sin_func(x,i)-math.sin(x))>eps:\n",
    "        index.append(i)\n",
    "        error.append(abs(sin_func(x,i)-math.sin(x)))\n",
    "        i+=1\n",
    "    plt.plot(index, error, color[j],label='exp(-'+str(x)+')')\n",
    "\n",
    "plt.grid(color='g', ls = '-.', lw = 0.5)\n",
    "plt.xlabel('No. of terms in taylor expansion')\n",
    "plt.ylabel('Error')\n",
    "plt.title('Error vs No. of terms ')\n",
    "plt.legend()\n",
    "plt.show()\n",
    " "
   ]
  },
  {
   "cell_type": "markdown",
   "id": "bf240c55",
   "metadata": {},
   "source": [
    "## Exponential Func."
   ]
  },
  {
   "cell_type": "code",
   "execution_count": 34,
   "id": "53224891",
   "metadata": {},
   "outputs": [
    {
     "name": "stdout",
     "output_type": "stream",
     "text": [
      "Enter the argument for exp function: 3\n",
      "Exp(-3) =0.04978706711474102\n",
      "It is accurate upto atleast 4 decimal places. \n"
     ]
    }
   ],
   "source": [
    "# Question 4(b): Exp function\n",
    "\n",
    "n=input(\"Enter the argument for exp function: \")\n",
    "n=is_natural(n)                                     \n",
    "if int(n)!=1:\n",
    "    eps=10**-6\n",
    "    i=1\n",
    "    while abs(exp_func(x,i)-math.exp(-x))>eps:             #The loop runs till the value matches with the actual valueof exp(-x)\n",
    "        i+=1\n",
    "    print(\"Exp(-\"+ str(n) + \") =\" + str(exp_func(n,i)))\n",
    "    print(\"It is accurate upto atleast 4 decimal places. \")"
   ]
  },
  {
   "cell_type": "markdown",
   "id": "08bba7a4",
   "metadata": {},
   "source": [
    "### Errors and Plots (exp_func)"
   ]
  },
  {
   "cell_type": "code",
   "execution_count": 37,
   "id": "3345725d",
   "metadata": {},
   "outputs": [
    {
     "data": {
      "image/png": "[encoded data removed]",
      "text/plain": [
       "<Figure size 648x432 with 1 Axes>"
      ]
     },
     "metadata": {
      "needs_background": "light"
     },
     "output_type": "display_data"
    }
   ],
   "source": [
    "%run my_functions_library.ipynb\n",
    "\n",
    "import math\n",
    "import matplotlib.pyplot as plt                                    #to be used for plotting\n",
    "plt.figure(figsize=(9,6))\n",
    "\n",
    "eps=10**-6                                                 # value of epsilon - decimal places upto which accuracy is desired\n",
    "\n",
    "argument=[1, 2.4, 3, 3.9, 4.3]                             # array of arguments given for comparison\n",
    "color=['r-o', 'k-o', 'y-o','b-o','g-o']                     # array of colors for plotting\n",
    "\n",
    "for j in range(len(argument)):\n",
    "    # initializing two arrays to store indices and errors\n",
    "    index=[] \n",
    "    error=[]\n",
    "    \n",
    "    x=argument[j] # argument if sine function\n",
    "    i=1\n",
    "    \n",
    "    # the loop runs till the value doesn't match with\n",
    "    # the actual value of sine and terminates as it matches\n",
    "    # upto desired decimal places\n",
    "    while abs(exp_func(x,i)-math.exp(-x))>eps:\n",
    "        index.append(i)\n",
    "        error.append(abs(exp_func(x,i)-math.exp(-x)))\n",
    "        i+=1\n",
    "    plt.plot(index, error, color[j], label='exp(-'+ str(x)+')')\n",
    "\n",
    "plt.grid(color='g', ls = '-.', lw = 0.5)\n",
    "plt.xlabel('No. of terms in taylor expansion')\n",
    "plt.ylabel('Error')\n",
    "plt.title('Error vs No. of terms ')\n",
    "plt.legend()\n",
    "plt.show()\n"
   ]
  },
  {
   "cell_type": "code",
   "execution_count": null,
   "id": "b748c9b4",
   "metadata": {},
   "outputs": [],
   "source": []
  },
  {
   "cell_type": "code",
   "execution_count": null,
   "id": "e418df1c",
   "metadata": {},
   "outputs": [],
   "source": []
  }
 ],
 "metadata": {
  "celltoolbar": "Tags",
  "kernelspec": {
   "display_name": "Python 3",
   "language": "python",
   "name": "python3"
  },
  "language_info": {
   "codemirror_mode": {
    "name": "ipython",
    "version": 3
   },
   "file_extension": ".py",
   "mimetype": "text/x-python",
   "name": "python",
   "nbconvert_exporter": "python",
   "pygments_lexer": "ipython3",
   "version": "3.8.10"
  }
 },
 "nbformat": 4,
 "nbformat_minor": 5
}
